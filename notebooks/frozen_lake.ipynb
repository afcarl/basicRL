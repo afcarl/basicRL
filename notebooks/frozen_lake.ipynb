{
 "cells": [
  {
   "cell_type": "markdown",
   "metadata": {},
   "source": [
    "# Frozen Lake\n",
    "\n",
    "**\"Winter is here. You and your friends were tossing around a frisbee at the park when you made a wild throw that left the frisbee out in the middle of the lake. The water is mostly frozen, but there are a few holes where the ice has melted. If you step into one of those holes, you'll fall into the freezing water. At this time, there's an international frisbee shortage, so it's absolutely imperative that you navigate across the lake and retrieve the disc. However, the ice is slippery, so you won't always move in the direction you intend.\"**\n",
    "\n",
    "from [openai](https://gym.openai.com/envs/FrozenLake-v0/)\n"
   ]
  },
  {
   "cell_type": "code",
   "execution_count": 1,
   "metadata": {},
   "outputs": [],
   "source": [
    "# all imports\n",
    "import gym\n",
    "import numpy as np"
   ]
  },
  {
   "cell_type": "code",
   "execution_count": 2,
   "metadata": {},
   "outputs": [],
   "source": [
    "# creating the MDP\n",
    "wrapper = gym.Wrapper(gym.make(\"FrozenLake-v0\"))"
   ]
  },
  {
   "cell_type": "markdown",
   "metadata": {},
   "source": [
    "## The MDP has the following form:\n",
    "\n",
    "\n",
    "![frozen](img/fl.png)\n",
    "\n",
    "\n",
    "\n",
    "\n",
    "We always can use some methods from the wrapper class to see some aspects of the MDP"
   ]
  },
  {
   "cell_type": "code",
   "execution_count": 3,
   "metadata": {},
   "outputs": [
    {
     "name": "stdout",
     "output_type": "stream",
     "text": [
      "observation space: Discrete(16)\n",
      "Actions space: Discrete(4)\n",
      "reward range: (-inf, inf)\n"
     ]
    }
   ],
   "source": [
    "print(\"observation space: {}\".format(wrapper.observation_space))\n",
    "print(\"Actions space: {}\".format(wrapper.action_space))\n",
    "print(\"reward range: {}\".format(wrapper.reward_range))"
   ]
  },
  {
   "cell_type": "markdown",
   "metadata": {},
   "source": [
    "## Using the method render, we can visualize the agent moving in the enviroment\n",
    "\n",
    "- S is start\n",
    "\n",
    "- F is frozen\n",
    "\n",
    "- H is hole\n",
    "\n",
    "- G is goal"
   ]
  },
  {
   "cell_type": "code",
   "execution_count": 4,
   "metadata": {},
   "outputs": [
    {
     "name": "stdout",
     "output_type": "stream",
     "text": [
      "\n",
      "\u001b[41mS\u001b[0mFFF\n",
      "FHFH\n",
      "FFFH\n",
      "HFFG\n",
      "  (Down)\n",
      "\u001b[41mS\u001b[0mFFF\n",
      "FHFH\n",
      "FFFH\n",
      "HFFG\n",
      "  (Down)\n",
      "S\u001b[41mF\u001b[0mFF\n",
      "FHFH\n",
      "FFFH\n",
      "HFFG\n",
      "  (Down)\n",
      "SFFF\n",
      "F\u001b[41mH\u001b[0mFH\n",
      "FFFH\n",
      "HFFG\n",
      "  (Right)\n",
      "SFFF\n",
      "F\u001b[41mH\u001b[0mFH\n",
      "FFFH\n",
      "HFFG\n"
     ]
    }
   ],
   "source": [
    "plan = [1,1,1,2]\n",
    "\n",
    "wrapper.reset()\n",
    "wrapper.render()\n",
    "\n",
    "for i in range(len(plan)):\n",
    "        action = plan[i]\n",
    "        obs, reward , done , info = wrapper.step(action)\n",
    "        wrapper.render()"
   ]
  },
  {
   "cell_type": "markdown",
   "metadata": {},
   "source": [
    "## Playing 100 episodes with random actions"
   ]
  },
  {
   "cell_type": "code",
   "execution_count": 5,
   "metadata": {},
   "outputs": [
    {
     "name": "stdout",
     "output_type": "stream",
     "text": [
      "Average reward = 0.005\n"
     ]
    }
   ],
   "source": [
    "total_reward = 0\n",
    "\n",
    "episodes = 200\n",
    "\n",
    "for i in range(episodes):\n",
    "    done = False\n",
    "    wrapper.reset()\n",
    "    while done is False:\n",
    "        action = np.random.randint(0,4)\n",
    "        obs, reward , done , _ = wrapper.step(action)\n",
    "        total_reward += reward\n",
    "        \n",
    "\n",
    "print(\"Average reward = {}\".format(total_reward / episodes))"
   ]
  },
  {
   "cell_type": "code",
   "execution_count": null,
   "metadata": {},
   "outputs": [],
   "source": []
  }
 ],
 "metadata": {
  "kernelspec": {
   "display_name": "Python 3",
   "language": "python",
   "name": "python3"
  },
  "language_info": {
   "codemirror_mode": {
    "name": "ipython",
    "version": 3
   },
   "file_extension": ".py",
   "mimetype": "text/x-python",
   "name": "python",
   "nbconvert_exporter": "python",
   "pygments_lexer": "ipython3",
   "version": "3.5.2"
  }
 },
 "nbformat": 4,
 "nbformat_minor": 2
}
