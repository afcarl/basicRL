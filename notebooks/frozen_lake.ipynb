{
 "cells": [
  {
   "cell_type": "markdown",
   "metadata": {},
   "source": [
    "# Frozen Lake\n",
    "\n",
    "**\"Winter is here. You and your friends were tossing around a frisbee at the park when you made a wild throw that left the frisbee out in the middle of the lake. The water is mostly frozen, but there are a few holes where the ice has melted. If you step into one of those holes, you'll fall into the freezing water. At this time, there's an international frisbee shortage, so it's absolutely imperative that you navigate across the lake and retrieve the disc. However, the ice is slippery, so you won't always move in the direction you intend.\"**\n",
    "\n",
    "from [openai](https://gym.openai.com/envs/FrozenLake-v0/)\n"
   ]
  },
  {
   "cell_type": "code",
   "execution_count": 1,
   "metadata": {},
   "outputs": [],
   "source": [
    "# all imports\n",
    "import gym\n",
    "import numpy as np\n",
    "import seaborn as sns\n",
    "import matplotlib.pyplot as plt\n",
    "from collections import defaultdict\n",
    "%matplotlib inline"
   ]
  },
  {
   "cell_type": "code",
   "execution_count": 2,
   "metadata": {},
   "outputs": [],
   "source": [
    "# creating the MDP\n",
    "wrapper = gym.Wrapper(gym.make(\"FrozenLake-v0\"))\n"
   ]
  },
  {
   "cell_type": "markdown",
   "metadata": {},
   "source": [
    "## The MDP has the following form:\n",
    "\n",
    "\n",
    "![frozen](img/fl.png)\n",
    "\n",
    "\n",
    "\n",
    "\n",
    "We always can use some methods from the wrapper class to see some aspects of the MDP"
   ]
  },
  {
   "cell_type": "code",
   "execution_count": 3,
   "metadata": {},
   "outputs": [
    {
     "name": "stdout",
     "output_type": "stream",
     "text": [
      "observation space: Discrete(16)\n",
      "Actions space: Discrete(4)\n",
      "reward range: (-inf, inf)\n"
     ]
    }
   ],
   "source": [
    "print(\"observation space: {}\".format(wrapper.observation_space))\n",
    "print(\"Actions space: {}\".format(wrapper.action_space))\n",
    "print(\"reward range: {}\".format(wrapper.reward_range))"
   ]
  },
  {
   "cell_type": "markdown",
   "metadata": {},
   "source": [
    "## Using the method render, we can visualize the agent moving in the enviroment\n",
    "\n",
    "- S is start\n",
    "\n",
    "- F is frozen\n",
    "\n",
    "- H is hole\n",
    "\n",
    "- G is goal"
   ]
  },
  {
   "cell_type": "code",
   "execution_count": 4,
   "metadata": {},
   "outputs": [
    {
     "name": "stdout",
     "output_type": "stream",
     "text": [
      "\n",
      "\u001b[41mS\u001b[0mFFF\n",
      "FHFH\n",
      "FFFH\n",
      "HFFG\n",
      "  (Down)\n",
      "SFFF\n",
      "\u001b[41mF\u001b[0mHFH\n",
      "FFFH\n",
      "HFFG\n",
      "  (Down)\n",
      "SFFF\n",
      "F\u001b[41mH\u001b[0mFH\n",
      "FFFH\n",
      "HFFG\n",
      "  (Down)\n",
      "SFFF\n",
      "F\u001b[41mH\u001b[0mFH\n",
      "FFFH\n",
      "HFFG\n",
      "  (Right)\n",
      "SFFF\n",
      "F\u001b[41mH\u001b[0mFH\n",
      "FFFH\n",
      "HFFG\n"
     ]
    }
   ],
   "source": [
    "plan = [1,1,1,2]\n",
    "\n",
    "wrapper.reset()\n",
    "wrapper.render()\n",
    "\n",
    "for i in range(len(plan)):\n",
    "        action = plan[i]\n",
    "        obs, reward , done , info = wrapper.step(action)\n",
    "        wrapper.render()"
   ]
  },
  {
   "cell_type": "markdown",
   "metadata": {},
   "source": [
    "## Playing 100 episodes with random actions"
   ]
  },
  {
   "cell_type": "code",
   "execution_count": 5,
   "metadata": {},
   "outputs": [
    {
     "name": "stdout",
     "output_type": "stream",
     "text": [
      "Average reward = 0.01\n"
     ]
    }
   ],
   "source": [
    "total_reward = 0\n",
    "\n",
    "episodes = 200\n",
    "\n",
    "for i in range(episodes):\n",
    "    done = False\n",
    "    wrapper.reset()\n",
    "    while done is False:\n",
    "        action = wrapper.action_space.sample()\n",
    "        _, reward , done , _ = wrapper.step(action)\n",
    "        total_reward += reward\n",
    "        \n",
    "print(\"Average reward = {}\".format(total_reward/episodes))"
   ]
  },
  {
   "cell_type": "markdown",
   "metadata": {},
   "source": [
    "## We can create random policies"
   ]
  },
  {
   "cell_type": "code",
   "execution_count": 6,
   "metadata": {},
   "outputs": [],
   "source": [
    "# deterministic_policy\n",
    "\n",
    "def create_deterministic_policy(env):\n",
    "    \"\"\"\n",
    "    using an enviroment with discrete states this function returns\n",
    "    a dictionary state:action\n",
    "    \n",
    "    :type env: gym.Env\n",
    "    :rtype: dict {int: int}\n",
    "    \"\"\"\n",
    "    assert type(env.observation_space) == gym.spaces.discrete.Discrete\n",
    "    number_states = env.observation_space.n\n",
    "    number_actions = env.action_space.n \n",
    "    policy = {}\n",
    "    for i in range(number_states):\n",
    "        action = np.random.randint(number_actions,\n",
    "                                   size=1)[0]\n",
    "        assert env.action_space.contains(action)\n",
    "        assert env.observation_space.contains(i)\n",
    "        policy[i]= action\n",
    "    return policy\n",
    "\n",
    "\n",
    "def create_initial_V(env,random=False):\n",
    "    \"\"\"\n",
    "    Using an enviroment with discrete states this function returns\n",
    "    a dictionary state:value. The initial value of an state value function.\n",
    "    It can start with all values set to zeros, or with randon numbers. \n",
    "    \n",
    "    :type env: gym.Env\n",
    "    :type random: boolean\n",
    "    :rtype: np.array\n",
    "    \"\"\"\n",
    "    assert type(env.observation_space) == gym.spaces.discrete.Discrete\n",
    "    number_states = env.observation_space.n\n",
    "    if random:\n",
    "        V = np.random.normal(0, 1, number_states)\n",
    "    else:\n",
    "        V = np.zeros(number_states)\n",
    "    return V\n",
    "\n",
    "def create_initial_Q(env,random=False):\n",
    "    \"\"\"\n",
    "    Using an enviroment with discrete states this function returns\n",
    "    a dictionary state:value. The initial value of an state value function.\n",
    "    It can start with all values set to zeros, or with randon numbers. \n",
    "    \n",
    "    :type env: gym.Env\n",
    "    :type random: boolean\n",
    "    :rtype: np.array\n",
    "    \"\"\"\n",
    "    assert type(env.observation_space) == gym.spaces.discrete.Discrete\n",
    "    number_states = env.observation_space.n\n",
    "    number_actions = env.action_space.n\n",
    "    Q_shape = (number_states, number_actions) \n",
    "    if random:\n",
    "        Q = np.random.normal(0, 1, Q_shape)\n",
    "    else:\n",
    "        Q = np.zeros(Q_shape)\n",
    "    return Q\n",
    "\n",
    "def softmax(x):\n",
    "    \"\"\"\n",
    "    Compute softmax values for each\n",
    "    sets of scores in x.\n",
    "    \n",
    "    :type x: np.array\n",
    "    :rtype: np.array\n",
    "    \"\"\"\n",
    "    e_x = np.exp(x - np.max(x))\n",
    "    return e_x / e_x.sum(axis=0) \n",
    "\n",
    "def create_stochastic_policy(env,low=5.0,high=10.0):\n",
    "    \"\"\"\n",
    "    using an enviroment with discrete states this function returns\n",
    "    a dictionary state:[prob of actions]\n",
    "    \n",
    "    :type env: gym.Env\n",
    "    :rtype: dict {int: [float]}\n",
    "    \"\"\"\n",
    "    assert type(env.observation_space) == gym.spaces.discrete.Discrete\n",
    "    number_states = env.observation_space.n\n",
    "    number_actions = env.action_space.n \n",
    "    policy = {}\n",
    "    for i in range(number_states):\n",
    "        actions = np.random.randint(low,\n",
    "                                    high,\n",
    "                                    size=number_actions)\n",
    "        actions = softmax(actions)\n",
    "        assert env.observation_space.contains(i)\n",
    "        policy[i]= actions\n",
    "    return policy\n",
    "    "
   ]
  },
  {
   "cell_type": "markdown",
   "metadata": {},
   "source": [
    "## Checking an deterministic policy"
   ]
  },
  {
   "cell_type": "code",
   "execution_count": 7,
   "metadata": {},
   "outputs": [
    {
     "name": "stdout",
     "output_type": "stream",
     "text": [
      "Average reward = 0.0\n",
      "Policy = \n",
      "{0: 3, 1: 1, 2: 3, 3: 2, 4: 0, 5: 0, 6: 0, 7: 0, 8: 3, 9: 3, 10: 1, 11: 0, 12: 0, 13: 2, 14: 2, 15: 2}\n"
     ]
    }
   ],
   "source": [
    "policy = create_deterministic_policy(wrapper)\n",
    "\n",
    "\n",
    "total_reward = 0\n",
    "\n",
    "episodes = 200\n",
    "\n",
    "for i in range(episodes):\n",
    "    done = False\n",
    "    obs = wrapper.reset()\n",
    "    while done is False:\n",
    "        action = policy[obs]\n",
    "        obs, reward , done , _ = wrapper.step(action)\n",
    "        total_reward += reward\n",
    "        \n",
    "print(\"Average reward = {}\".format(total_reward/episodes))\n",
    "print(\"Policy = \")\n",
    "print(policy)"
   ]
  },
  {
   "cell_type": "markdown",
   "metadata": {},
   "source": [
    "## Checking an stochastic policy"
   ]
  },
  {
   "cell_type": "code",
   "execution_count": 8,
   "metadata": {},
   "outputs": [
    {
     "name": "stdout",
     "output_type": "stream",
     "text": [
      "Average reward = 0.005\n",
      "Policy = \n",
      "  0 [0.1749, 0.1749, 0.4754, 0.1749]\n",
      "  1 [0.1966, 0.0723, 0.5344, 0.1966]\n",
      "  2 [0.0152, 0.0414, 0.1125, 0.8310]\n",
      "  3 [0.2369, 0.0321, 0.6439, 0.0871]\n",
      "  4 [0.0085, 0.4643, 0.0628, 0.4643]\n",
      "  5 [0.0433, 0.0433, 0.8700, 0.0433]\n",
      "  6 [0.0169, 0.0458, 0.0169, 0.9205]\n",
      "  7 [0.0228, 0.0619, 0.4576, 0.4576]\n",
      "  8 [0.0826, 0.0826, 0.2245, 0.6103]\n",
      "  9 [0.0090, 0.0090, 0.4910, 0.4910]\n",
      " 10 [0.5344, 0.0723, 0.1966, 0.1966]\n",
      " 11 [0.8533, 0.0156, 0.0156, 0.1155]\n",
      " 12 [0.3189, 0.3189, 0.0432, 0.3189]\n",
      " 13 [0.0339, 0.0339, 0.6815, 0.2507]\n",
      " 14 [0.4754, 0.1749, 0.1749, 0.1749]\n",
      " 15 [0.0156, 0.1155, 0.0156, 0.8533]\n"
     ]
    }
   ],
   "source": [
    "policy = create_stochastic_policy(wrapper)\n",
    "\n",
    "actions = list(range(wrapper.action_space.n))\n",
    "\n",
    "total_reward = 0\n",
    "\n",
    "episodes = 200\n",
    "\n",
    "for i in range(episodes):\n",
    "    done = False\n",
    "    obs = wrapper.reset()\n",
    "    while done is False:\n",
    "        probabilities = policy[obs]\n",
    "        action = np.random.choice(actions, 1, p=probabilities)[0]\n",
    "        obs, reward , done , _ = wrapper.step(action)\n",
    "        total_reward += reward\n",
    "        \n",
    "print(\"Average reward = {}\".format(total_reward/episodes))\n",
    "print(\"Policy = \")\n",
    "for state, actions in policy.items():\n",
    "    actions = \", \".join([\"{:.4f}\".format(prob) for prob in actions])\n",
    "    print(\"{0:3d} [{1}]\".format(state, actions))"
   ]
  },
  {
   "cell_type": "markdown",
   "metadata": {},
   "source": [
    "# Monte carlo estimation\n",
    "\n",
    "**Monte Carlo methods** are ways of solving the reinforcement learning problem based on averaging sample returns.\n",
    "\n",
    "Suppose we wish to estimate $V^{\\pi}(s)$, the value of state $s$ under policy $\\pi$, given a set of episodes obtained by following $\\pi$ and passing through $s$. Each occurence of state $s$ in an episode is called a **visit** to $s$. We can also estimate $Q^{\\pi}(s,a)$\n",
    "\n",
    "- ** First-visit MC method**, $V^{\\pi}(s)$ and $Q^{\\pi}(s,a)$ are estimated as the first return from a visits to $s$ (taking action $a$) in a set of episodes\n",
    "\n",
    "- ** Every-visit MC method**, $V^{\\pi}(s)$ and $Q^{\\pi}(s,a)$ are estimated as the average of the returns following all the visits to $s$ (taking action $a$) in a set of episodes\n"
   ]
  },
  {
   "cell_type": "code",
   "execution_count": 9,
   "metadata": {},
   "outputs": [],
   "source": [
    "def first_visit_MC(env, policy, episodes, deterministic=True, random=False):\n",
    "    \"\"\"\n",
    "    Calculates V and Q values for the policy in a set of episodes\n",
    "\n",
    "    :type env: gym.Env\n",
    "    :type policy: dict {int: int} or {int: [float]}\n",
    "    :type episodes: int\n",
    "    :type deterministic: boolean\n",
    "    :type random: boolean\n",
    "    :rtype V: np.array, shape = env..observation_space.n\n",
    "    :rtype Q: np.array, shape = (env.observation_space.n,\n",
    "                                 env.action_space.n)\n",
    "    \"\"\"\n",
    "    actions = list(range(env.action_space.n))\n",
    "    V = create_initial_V(env, random)\n",
    "    Q = create_initial_Q(env, random)\n",
    "    for i in range(episodes):\n",
    "        Q_prime = defaultdict(lambda:None)\n",
    "        V_prime = defaultdict(lambda:None)\n",
    "        old_obs = env.reset()\n",
    "        done = False\n",
    "        R = 0\n",
    "        while not done:\n",
    "            if deterministic:\n",
    "                action = policy[old_obs]\n",
    "            else:\n",
    "                probabilities = policy[old_obs]\n",
    "                action = np.random.choice(actions, 1, p=probabilities)[0]\n",
    "            obs, reward , done , _ = wrapper.step(action)\n",
    "            R += reward\n",
    "            if Q_prime[(old_obs, action)] is None:\n",
    "                Q_prime[(old_obs, action)] = R\n",
    "            if V_prime[old_obs] is None:\n",
    "                V_prime[old_obs] = R\n",
    "            old_obs = obs\n",
    "        for state, action in Q_prime:\n",
    "            Q[state][action] += R - Q_prime[(state, action)]\n",
    "        for state in V_prime:\n",
    "            V[state] += R - V_prime[state]\n",
    "            \n",
    "    Q = Q / episodes\n",
    "    V = V / episodes\n",
    "    return V, Q\n",
    "    \n",
    "\n",
    "\n",
    "\n",
    "def every_visit_MC(env, policy, episodes, deterministic=True, random=False):\n",
    "    \"\"\"\n",
    "    Calculates V and Q values for the policy in a set of episodes\n",
    "\n",
    "    :type env: gym.Env\n",
    "    :type policy: dict {int: int} or {int: [float]}\n",
    "    :type episodes: int\n",
    "    :type deterministic: boolean\n",
    "    :type random: boolean\n",
    "    :rtype V: np.array, shape = env..observation_space.n\n",
    "    :rtype Q: np.array, shape = (env.observation_space.n,\n",
    "                                 env.action_space.n)\n",
    "    \"\"\"\n",
    "    actions = list(range(env.action_space.n))\n",
    "    V = create_initial_V(env, random)\n",
    "    Q = create_initial_Q(env, random)\n",
    "    for i in range(episodes):\n",
    "        Q_prime = defaultdict(lambda:[])\n",
    "        V_prime = defaultdict(lambda:[])\n",
    "        old_obs = env.reset()\n",
    "        done = False\n",
    "        R = 0\n",
    "        while not done:\n",
    "            if deterministic:\n",
    "                action = policy[old_obs]\n",
    "            else:\n",
    "                probabilities = policy[old_obs]\n",
    "                action = np.random.choice(actions, 1, p=probabilities)[0]\n",
    "            obs, reward , done , _ = wrapper.step(action)\n",
    "            R += reward\n",
    "            Q_prime[(old_obs, action)].append(R)          \n",
    "            V_prime[old_obs].append(R)\n",
    "            old_obs = obs\n",
    "        for state, action in Q_prime:\n",
    "            Q[state][action] += R - np.mean(Q_prime[(state, action)])\n",
    "        for state in V_prime:\n",
    "            V[state] += R - np.mean(V_prime[state])\n",
    "\n",
    "    Q = Q / episodes\n",
    "    V = V / episodes\n",
    "    return V, Q\n",
    "    \n"
   ]
  },
  {
   "cell_type": "markdown",
   "metadata": {},
   "source": [
    "### Estimating V and Q with first visit MC"
   ]
  },
  {
   "cell_type": "code",
   "execution_count": 10,
   "metadata": {},
   "outputs": [],
   "source": [
    "pi = create_stochastic_policy(wrapper)\n",
    "\n",
    "episodes = 20000\n",
    "\n",
    "V_pi, Q_pi = first_visit_MC(wrapper, pi, episodes, deterministic=False, random=False)\n"
   ]
  },
  {
   "cell_type": "markdown",
   "metadata": {},
   "source": [
    "### Estimating V and Q with every visit MC"
   ]
  },
  {
   "cell_type": "code",
   "execution_count": 11,
   "metadata": {},
   "outputs": [],
   "source": [
    "pi = create_stochastic_policy(wrapper)\n",
    "\n",
    "episodes = 20000\n",
    "\n",
    "V_pi, Q_pi = every_visit_MC(wrapper, pi, episodes, deterministic=False, random=False)\n"
   ]
  },
  {
   "cell_type": "markdown",
   "metadata": {},
   "source": [
    "**after this processes we can visualize the V as a matrix and the Q table**\n",
    "\n",
    "\n",
    "![frozen](img/V_Q.png)\n",
    "\n",
    "\n"
   ]
  },
  {
   "cell_type": "code",
   "execution_count": 12,
   "metadata": {},
   "outputs": [
    {
     "data": {
      "image/png": "[encoded data removed]",
      "text/plain": [
       "<matplotlib.figure.Figure at 0x7f55b44460b8>"
      ]
     },
     "metadata": {},
     "output_type": "display_data"
    }
   ],
   "source": [
    "fig, ax = plt.subplots(1, 1, figsize=(5, 5))\n",
    "ax = sns.heatmap(V_pi.reshape((4,4)), annot=True)\n",
    "ax.grid()\n",
    "fig.suptitle(\"V matrix\", fontsize=18, fontweight='bold')\n",
    "plt.show()"
   ]
  },
  {
   "cell_type": "code",
   "execution_count": 13,
   "metadata": {},
   "outputs": [
    {
     "data": {
      "image/png": "[encoded data removed]",
      "text/plain": [
       "<matplotlib.figure.Figure at 0x7f55b4446080>"
      ]
     },
     "metadata": {},
     "output_type": "display_data"
    }
   ],
   "source": [
    "fig, ax = plt.subplots(1, 1, figsize=(5, 5))\n",
    "ax = sns.heatmap(Q_pi, annot=True)\n",
    "fig.suptitle(\"Q table\", fontsize=18, fontweight='bold')\n",
    "plt.show()"
   ]
  },
  {
   "cell_type": "code",
   "execution_count": null,
   "metadata": {},
   "outputs": [],
   "source": []
  },
  {
   "cell_type": "code",
   "execution_count": null,
   "metadata": {},
   "outputs": [],
   "source": []
  },
  {
   "cell_type": "code",
   "execution_count": null,
   "metadata": {},
   "outputs": [],
   "source": []
  },
  {
   "cell_type": "code",
   "execution_count": null,
   "metadata": {},
   "outputs": [],
   "source": []
  },
  {
   "cell_type": "code",
   "execution_count": null,
   "metadata": {},
   "outputs": [],
   "source": []
  },
  {
   "cell_type": "code",
   "execution_count": null,
   "metadata": {},
   "outputs": [],
   "source": []
  }
 ],
 "metadata": {
  "kernelspec": {
   "display_name": "Python 3",
   "language": "python",
   "name": "python3"
  },
  "language_info": {
   "codemirror_mode": {
    "name": "ipython",
    "version": 3
   },
   "file_extension": ".py",
   "mimetype": "text/x-python",
   "name": "python",
   "nbconvert_exporter": "python",
   "pygments_lexer": "ipython3",
   "version": "3.5.2"
  }
 },
 "nbformat": 4,
 "nbformat_minor": 2
}
